{
 "cells": [
  {
   "cell_type": "code",
   "execution_count": 5,
   "id": "c74c3bbe",
   "metadata": {},
   "outputs": [
    {
     "ename": "ModuleNotFoundError",
     "evalue": "No module named 'caas_jupyter_tools'",
     "output_type": "error",
     "traceback": [
      "\u001b[31m---------------------------------------------------------------------------\u001b[39m",
      "\u001b[31mModuleNotFoundError\u001b[39m                       Traceback (most recent call last)",
      "\u001b[36mCell\u001b[39m\u001b[36m \u001b[39m\u001b[32mIn[5]\u001b[39m\u001b[32m, line 4\u001b[39m\n\u001b[32m      2\u001b[39m \u001b[38;5;28;01mimport\u001b[39;00m\u001b[38;5;250m \u001b[39m\u001b[34;01mnumpy\u001b[39;00m\u001b[38;5;250m \u001b[39m\u001b[38;5;28;01mas\u001b[39;00m\u001b[38;5;250m \u001b[39m\u001b[34;01mnp\u001b[39;00m\n\u001b[32m      3\u001b[39m \u001b[38;5;28;01mimport\u001b[39;00m\u001b[38;5;250m \u001b[39m\u001b[34;01mmatplotlib\u001b[39;00m\u001b[34;01m.\u001b[39;00m\u001b[34;01mpyplot\u001b[39;00m\u001b[38;5;250m \u001b[39m\u001b[38;5;28;01mas\u001b[39;00m\u001b[38;5;250m \u001b[39m\u001b[34;01mplt\u001b[39;00m\n\u001b[32m----> \u001b[39m\u001b[32m4\u001b[39m \u001b[38;5;28;01mfrom\u001b[39;00m\u001b[38;5;250m \u001b[39m\u001b[34;01mcaas_jupyter_tools\u001b[39;00m\u001b[38;5;250m \u001b[39m\u001b[38;5;28;01mimport\u001b[39;00m display_dataframe_to_user\n",
      "\u001b[31mModuleNotFoundError\u001b[39m: No module named 'caas_jupyter_tools'"
     ]
    }
   ],
   "source": [
    "import pandas as pd\n",
    "import numpy as np\n",
    "import matplotlib.pyplot as plt\n",
    "from caas_jupyter_tools import display_dataframe_to_user"
   ]
  },
  {
   "cell_type": "code",
   "execution_count": null,
   "id": "73fbc0c8",
   "metadata": {},
   "outputs": [],
   "source": [
    "# Re-plot with X=Ingresos (parsed to numeric), Y=Grupo de Edad, Hue=POBREZA\n",
    "\n",
    "\n",
    "\n",
    "df = pd.read_csv(\"base_proyecto.csv\", sep = \",\", index_col=0)\n",
    "# If df isn't in memory (edge case), reload\n",
    "try:\n",
    "    df\n",
    "except NameError:\n",
    "    df = pd.read_csv(\"/mnt/data/base_proyecto.csv\")\n",
    "\n",
    "df0 = df.copy()\n",
    "\n",
    "# --- Parse \"Ingresos\" to numeric robustly ---\n",
    "def parse_ingresos(series: pd.Series) -> pd.Series:\n",
    "    s = series.astype(str).str.strip()\n",
    "    # Remove currency symbols and spaces\n",
    "    s1 = s.str.replace(r\"[^\\d,.\\-]\", \"\", regex=True)\n",
    "    # Strategy A: assume comma is thousands separator -> remove commas\n",
    "    a = pd.to_numeric(s1.str.replace(\",\", \"\", regex=False), errors=\"coerce\")\n",
    "    # Strategy B: assume comma is decimal separator -> swap , -> . and remove dots as thousands\n",
    "    b = pd.to_numeric(\n",
    "        s1.str.replace(\".\", \"\", regex=False).str.replace(\",\", \".\", regex=False),\n",
    "        errors=\"coerce\"\n",
    "    )\n",
    "    # Choose the version with fewer NaNs (more successful parses)\n",
    "    if a.notna().sum() >= b.notna().sum():\n",
    "        return a\n",
    "    else:\n",
    "        return b\n",
    "\n",
    "df0[\"Ingresos_num\"] = parse_ingresos(df0[\"Ingresos\"])\n",
    "\n",
    "# Prepare data\n",
    "required_cols = [\"Grupo de Edad\", \"POBREZA\", \"Ingresos_num\"]\n",
    "plot_df = df0[required_cols].dropna()\n",
    "\n",
    "# Cast hue to categorical for clearer legend labels\n",
    "plot_df[\"POBREZA\"] = plot_df[\"POBREZA\"].astype(int)\n",
    "\n",
    "# Plot\n",
    "plt.figure(figsize=(9, 6))\n",
    "for k, g in plot_df.groupby(\"POBREZA\"):\n",
    "    plt.scatter(g[\"Ingresos_num\"], g[\"Grupo de Edad\"], label=str(k), alpha=0.8, s=20)\n",
    "\n",
    "plt.xlabel(\"Ingresos (num)\")\n",
    "plt.ylabel(\"Grupo de Edad\")\n",
    "plt.title(\"Ingresos vs Grupo de Edad por POBREZA\")\n",
    "plt.legend(title=\"POBREZA\")\n",
    "plt.tight_layout()\n",
    "plt.show()\n",
    "\n",
    "# Quick report on parsing success\n",
    "report = pd.DataFrame({\n",
    "    \"rows_total\":[len(df0)],\n",
    "    \"parsed_non_na\":[plot_df.shape[0]],\n",
    "    \"dropped_rows\":[len(df0) - plot_df.shape[0]]\n",
    "})\n",
    "display_dataframe_to_user(\"Parse report (Ingresos -> numeric)\", report)"
   ]
  }
 ],
 "metadata": {
  "kernelspec": {
   "display_name": "base",
   "language": "python",
   "name": "python3"
  },
  "language_info": {
   "codemirror_mode": {
    "name": "ipython",
    "version": 3
   },
   "file_extension": ".py",
   "mimetype": "text/x-python",
   "name": "python",
   "nbconvert_exporter": "python",
   "pygments_lexer": "ipython3",
   "version": "3.13.5"
  }
 },
 "nbformat": 4,
 "nbformat_minor": 5
}
