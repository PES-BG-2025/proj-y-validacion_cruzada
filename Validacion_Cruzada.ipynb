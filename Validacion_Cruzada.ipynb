{
 "cells": [
  {
   "cell_type": "markdown",
   "id": "d387afba",
   "metadata": {},
   "source": [
    "# Validación Cruzada\n",
    "## evaluación del rendimiento del estimador\n"
   ]
  },
  {
   "cell_type": "code",
   "execution_count": null,
   "id": "13665353",
   "metadata": {},
   "outputs": [],
   "source": []
  }
 ],
 "metadata": {
  "kernelspec": {
   "display_name": "Python 3",
   "language": "python",
   "name": "python3"
  },
  "language_info": {
   "name": "python",
   "version": "3.12.6"
  }
 },
 "nbformat": 4,
 "nbformat_minor": 5
}
