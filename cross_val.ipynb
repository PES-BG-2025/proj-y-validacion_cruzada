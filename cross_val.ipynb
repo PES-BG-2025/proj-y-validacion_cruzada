{
 "cells": [
  {
   "cell_type": "code",
   "execution_count": 2,
   "id": "090664a8",
   "metadata": {},
   "outputs": [],
   "source": [
    "import pandas as pd\n",
    "from sklearn.model_selection import train_test_split\n",
    "from sklearn import svm"
   ]
  },
  {
   "cell_type": "code",
   "execution_count": 14,
   "id": "74207bc4",
   "metadata": {},
   "outputs": [
    {
     "data": {
      "text/html": [
       "<div>\n",
       "<style scoped>\n",
       "    .dataframe tbody tr th:only-of-type {\n",
       "        vertical-align: middle;\n",
       "    }\n",
       "\n",
       "    .dataframe tbody tr th {\n",
       "        vertical-align: top;\n",
       "    }\n",
       "\n",
       "    .dataframe thead th {\n",
       "        text-align: right;\n",
       "    }\n",
       "</style>\n",
       "<table border=\"1\" class=\"dataframe\">\n",
       "  <thead>\n",
       "    <tr style=\"text-align: right;\">\n",
       "      <th></th>\n",
       "      <th>pobreza</th>\n",
       "      <th>ingresos</th>\n",
       "      <th>nivel_de_estudios</th>\n",
       "      <th>grupos_de_edad</th>\n",
       "    </tr>\n",
       "    <tr>\n",
       "      <th>indez</th>\n",
       "      <th></th>\n",
       "      <th></th>\n",
       "      <th></th>\n",
       "      <th></th>\n",
       "    </tr>\n",
       "  </thead>\n",
       "  <tbody>\n",
       "    <tr>\n",
       "      <th>1</th>\n",
       "      <td>3</td>\n",
       "      <td>42000</td>\n",
       "      <td>4</td>\n",
       "      <td>7</td>\n",
       "    </tr>\n",
       "    <tr>\n",
       "      <th>2</th>\n",
       "      <td>3</td>\n",
       "      <td>40000</td>\n",
       "      <td>5</td>\n",
       "      <td>14</td>\n",
       "    </tr>\n",
       "    <tr>\n",
       "      <th>3</th>\n",
       "      <td>3</td>\n",
       "      <td>31000</td>\n",
       "      <td>4</td>\n",
       "      <td>10</td>\n",
       "    </tr>\n",
       "    <tr>\n",
       "      <th>4</th>\n",
       "      <td>3</td>\n",
       "      <td>30000</td>\n",
       "      <td>6</td>\n",
       "      <td>14</td>\n",
       "    </tr>\n",
       "    <tr>\n",
       "      <th>5</th>\n",
       "      <td>3</td>\n",
       "      <td>30000</td>\n",
       "      <td>5</td>\n",
       "      <td>9</td>\n",
       "    </tr>\n",
       "    <tr>\n",
       "      <th>...</th>\n",
       "      <td>...</td>\n",
       "      <td>...</td>\n",
       "      <td>...</td>\n",
       "      <td>...</td>\n",
       "    </tr>\n",
       "    <tr>\n",
       "      <th>3996</th>\n",
       "      <td>3</td>\n",
       "      <td>2500</td>\n",
       "      <td>5</td>\n",
       "      <td>10</td>\n",
       "    </tr>\n",
       "    <tr>\n",
       "      <th>3997</th>\n",
       "      <td>3</td>\n",
       "      <td>2500</td>\n",
       "      <td>2</td>\n",
       "      <td>10</td>\n",
       "    </tr>\n",
       "    <tr>\n",
       "      <th>3998</th>\n",
       "      <td>3</td>\n",
       "      <td>2500</td>\n",
       "      <td>4</td>\n",
       "      <td>10</td>\n",
       "    </tr>\n",
       "    <tr>\n",
       "      <th>3999</th>\n",
       "      <td>2</td>\n",
       "      <td>2500</td>\n",
       "      <td>4</td>\n",
       "      <td>9</td>\n",
       "    </tr>\n",
       "    <tr>\n",
       "      <th>4000</th>\n",
       "      <td>2</td>\n",
       "      <td>2500</td>\n",
       "      <td>4</td>\n",
       "      <td>9</td>\n",
       "    </tr>\n",
       "  </tbody>\n",
       "</table>\n",
       "<p>4000 rows × 4 columns</p>\n",
       "</div>"
      ],
      "text/plain": [
       "       pobreza  ingresos  nivel_de_estudios  grupos_de_edad\n",
       "indez                                                      \n",
       "1            3     42000                  4               7\n",
       "2            3     40000                  5              14\n",
       "3            3     31000                  4              10\n",
       "4            3     30000                  6              14\n",
       "5            3     30000                  5               9\n",
       "...        ...       ...                ...             ...\n",
       "3996         3      2500                  5              10\n",
       "3997         3      2500                  2              10\n",
       "3998         3      2500                  4              10\n",
       "3999         2      2500                  4               9\n",
       "4000         2      2500                  4               9\n",
       "\n",
       "[4000 rows x 4 columns]"
      ]
     },
     "execution_count": 14,
     "metadata": {},
     "output_type": "execute_result"
    }
   ],
   "source": [
    "df = pd.read_csv(\"base_proyecto.csv\", sep = \",\", index_col=0).iloc[:4000,1:]\n",
    "df"
   ]
  },
  {
   "cell_type": "code",
   "execution_count": 17,
   "id": "ca566e17",
   "metadata": {},
   "outputs": [
    {
     "data": {
      "text/plain": [
       "(       ingresos  grupos_de_edad\n",
       " indez                          \n",
       " 1         42000               7\n",
       " 2         40000              14\n",
       " 3         31000              10\n",
       " 4         30000              14\n",
       " 5         30000               9\n",
       " ...         ...             ...\n",
       " 3996       2500              10\n",
       " 3997       2500              10\n",
       " 3998       2500              10\n",
       " 3999       2500               9\n",
       " 4000       2500               9\n",
       " \n",
       " [4000 rows x 2 columns],\n",
       " indez\n",
       " 1       42000\n",
       " 2       40000\n",
       " 3       31000\n",
       " 4       30000\n",
       " 5       30000\n",
       "         ...  \n",
       " 3996     2500\n",
       " 3997     2500\n",
       " 3998     2500\n",
       " 3999     2500\n",
       " 4000     2500\n",
       " Name: ingresos, Length: 4000, dtype: int64)"
      ]
     },
     "execution_count": 17,
     "metadata": {},
     "output_type": "execute_result"
    }
   ],
   "source": [
    "\n",
    "X = df.iloc[:,[1,3]]\n",
    "y = df.iloc[:,1]\n",
    "X.shape, y.shape\n",
    "X, y"
   ]
  },
  {
   "cell_type": "code",
   "execution_count": 7,
   "id": "ab20ca16",
   "metadata": {},
   "outputs": [],
   "source": [
    "X_train, X_test, y_train, y_test = train_test_split( X,y, test_size = 0.5, random_state = 0) "
   ]
  },
  {
   "cell_type": "code",
   "execution_count": null,
   "id": "a769f1db",
   "metadata": {},
   "outputs": [],
   "source": [
    "clf = svm.SVC(kernel='linear', C=1).fit(X_train, y_train)\n",
    "clf.score(X_test, y_test)"
   ]
  },
  {
   "cell_type": "code",
   "execution_count": null,
   "id": "838ccbc4",
   "metadata": {},
   "outputs": [],
   "source": [
    "cross_val_score\n"
   ]
  },
  {
   "cell_type": "code",
   "execution_count": null,
   "id": "014875ac",
   "metadata": {},
   "outputs": [
    {
     "ename": "SyntaxError",
     "evalue": "invalid syntax (1333539431.py, line 7)",
     "output_type": "error",
     "traceback": [
      "  \u001b[36mCell\u001b[39m\u001b[36m \u001b[39m\u001b[32mIn[13]\u001b[39m\u001b[32m, line 7\u001b[39m\n\u001b[31m    \u001b[39m\u001b[31m0.98 accuracy with a standard deviation of 0.02\u001b[39m\n         ^\n\u001b[31mSyntaxError\u001b[39m\u001b[31m:\u001b[39m invalid syntax\n"
     ]
    }
   ],
   "source": [
    "from sklearn.model_selection import cross_val_score\n",
    "clf = svm.SVC(kernal = \"linear\", C = 1, random_state = 42)\n",
    "scores = cross_val_score(clf, X, y, cv=5)\n",
    "scores\n",
    "\n",
    "print(\"%0.2f accuracy with a standard deviation of %0.2f\" % (scores.mean(), scores.std()))\n",
    "0.98 accuracy with a standard deviation of 0.02\n",
    "\n"
   ]
  },
  {
   "cell_type": "code",
   "execution_count": null,
   "id": "7483c419",
   "metadata": {},
   "outputs": [],
   "source": [
    "from sklearn import datasets, linear_model\n",
    "from sklearn.model_selection import cross_val_predict\n",
    "clf = svm.SVC(kernel = \"linear\", C = 1, random_state = 42).fit(X_train,y_train)\n",
    "y_pred = cross_val_predict(clf, X_test, y_test, cv=6)"
   ]
  },
  {
   "cell_type": "code",
   "execution_count": null,
   "id": "4ec3ab64",
   "metadata": {},
   "outputs": [],
   "source": []
  }
 ],
 "metadata": {
  "kernelspec": {
   "display_name": "base",
   "language": "python",
   "name": "python3"
  },
  "language_info": {
   "codemirror_mode": {
    "name": "ipython",
    "version": 3
   },
   "file_extension": ".py",
   "mimetype": "text/x-python",
   "name": "python",
   "nbconvert_exporter": "python",
   "pygments_lexer": "ipython3",
   "version": "3.13.5"
  }
 },
 "nbformat": 4,
 "nbformat_minor": 5
}
